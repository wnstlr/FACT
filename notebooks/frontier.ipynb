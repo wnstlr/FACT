{
 "cells": [
  {
   "cell_type": "code",
   "execution_count": 3,
   "metadata": {},
   "outputs": [
    {
     "name": "stdout",
     "output_type": "stream",
     "text": [
      "The autoreload extension is already loaded. To reload it, use:\n",
      "  %reload_ext autoreload\n"
     ]
    }
   ],
   "source": [
    "%load_ext autoreload\n",
    "%autoreload 2\n",
    "%matplotlib inline\n",
    "import pandas as pd\n",
    "import numpy as np\n",
    "\n",
    "import scipy as scp\n",
    "import sklearn\n",
    "import sys, os, pickle\n",
    "\n",
    "sys.path.append(os.path.join('..'))\n",
    "\n",
    "from tradeoff.helper import *\n",
    "from tradeoff.fairness import *\n",
    "from tradeoff.data_util import *\n",
    "from tradeoff.plot import *\n",
    "from tradeoff.lin_opt import *\n",
    "\n",
    "import matplotlib\n",
    "matplotlib.rcParams['pdf.fonttype'] = 42\n",
    "matplotlib.rcParams['ps.fonttype'] = 42"
   ]
  },
  {
   "cell_type": "code",
   "execution_count": 4,
   "metadata": {
    "collapsed": true
   },
   "outputs": [],
   "source": [
    "DATANAME='adult'\n",
    "X_train, y_train, X_test, y_test, X_train_removed, X_test_removed, dtypes, dtypes_, sens_idc, race_idx, sex_idx = get_dataset(DATANAME)"
   ]
  },
  {
   "cell_type": "code",
   "execution_count": 5,
   "metadata": {
    "collapsed": true
   },
   "outputs": [],
   "source": [
    "try:\n",
    "    grid_base =  pickle.load(open('model_adult_base.pkl', 'rb'))[0]\n",
    "    grid =  pickle.load(open('model_adult.pkl', 'rb'))[0]\n",
    "    model_base = grid_base.best_estimator_.named_steps['logisticregression']\n",
    "    #model = grid.best_estimator_.named_steps['logisticregression']\n",
    "    model = grid\n",
    "except FileNotFoundError:\n",
    "    model_names = ['LogisticRegression']\n",
    "    result = create_and_train_models(model_names, dtypes_, X_train_removed, y_train, X_test=X_test_removed, y_test=y_test, save=True, data_name=DATANAME)\n",
    "    result_base = create_and_train_models(model_names, dtypes, X_train, y_train, X_test=X_test, y_test=y_test, save=True, data_name=DATANAME + '_base')\n",
    "    model_base = result_base[0]['estimator']\n",
    "    model = result[0]['estimator']"
   ]
  },
  {
   "cell_type": "code",
   "execution_count": 6,
   "metadata": {},
   "outputs": [
    {
     "name": "stdout",
     "output_type": "stream",
     "text": [
      "Training {'model_name': 'LogisticRegression', 'estimator': GridSearchCV(cv=StratifiedKFold(n_splits=5, random_state=0, shuffle=False),\n",
      "       error_score='raise',\n",
      "       estimator=Pipeline(memory=None,\n",
      "     steps=[('onehotencoder', OneHotEncoder(categorical_features=array([False, False, False, False,  True,  True,  True,  True,  True,\n",
      "        True]),\n",
      "       dtype=<class 'numpy.float64'>, handle_unknown='error',\n",
      "       n_values='auto', sparse=False)), ('standardscaler', StandardScaler(copy=True, with_me...ty='l2', random_state=None, solver='liblinear', tol=0.0001,\n",
      "          verbose=0, warm_start=False))]),\n",
      "       fit_params=None, iid=False, n_jobs=1,\n",
      "       param_grid={'logisticregression__C': array([0.0001, 0.1   ])},\n",
      "       pre_dispatch='2*n_jobs', refit=True, return_train_score=True,\n",
      "       scoring='accuracy', verbose=0), 'get_model': <function create_model.<locals>.get_model at 0x7f6c80823d90>}\n"
     ]
    }
   ],
   "source": [
    "model_names = ['LogisticRegression']\n",
    "result = create_and_train_models(model_names, dtypes_, X_train_removed, y_train, X_test=X_test_removed, y_test=y_test, save=True, data_name=DATANAME)\n",
    "model = result[0]['estimator']"
   ]
  },
  {
   "cell_type": "code",
   "execution_count": 7,
   "metadata": {
    "collapsed": true
   },
   "outputs": [],
   "source": [
    "# Get fairness matrix information\n",
    "fm = FairnessMeasures(X_train, \n",
    "                      y_train, \n",
    "                      X_test, \n",
    "                      y_test, \n",
    "                      X_train_removed, \n",
    "                      X_test_removed, \n",
    "                      model, \n",
    "                      sex_idx, \n",
    "                      pos_label=1, \n",
    "                      neg_label=0)\n",
    "\n",
    "mats, mats_dict, M_const, b_const = get_fairness_mats(fm)"
   ]
  },
  {
   "cell_type": "code",
   "execution_count": 8,
   "metadata": {
    "collapsed": true
   },
   "outputs": [],
   "source": [
    "# Get csv file for eqodd code to run\n",
    "get_csv_eqodd(fm, data_name=DATANAME)"
   ]
  },
  {
   "cell_type": "code",
   "execution_count": 9,
   "metadata": {
    "collapsed": true
   },
   "outputs": [],
   "source": [
    "# Run over multiple train-test splits\n",
    "DATANAME='adult'\n",
    "FAIRNESS_NAME='EqOdd'\n",
    "no_trials = 10\n",
    "seeds = np.array(range(no_trials)) + 42\n",
    "eps_collection = np.zeros((100, no_trials))\n",
    "acc_collection = np.zeros((100, no_trials))\n",
    "for e, i in enumerate(seeds):\n",
    "    X_train, y_train, X_test, y_test, X_train_removed, X_test_removed, dtypes, dtypes_, sens_idc, race_idx, sex_idx = get_dataset(DATANAME, seed=i, verbose=False)\n",
    "    model = sklearn.linear_model.LogisticRegression(solver='lbfgs')\n",
    "    model.fit(X_train_removed, y_train)\n",
    "    fm = FairnessMeasures(X_train, \n",
    "                      y_train, \n",
    "                      X_test, \n",
    "                      y_test, \n",
    "                      X_train_removed, \n",
    "                      X_test_removed, \n",
    "                      model, \n",
    "                      sex_idx, \n",
    "                      pos_label=1, \n",
    "                      neg_label=0)\n",
    "    _, eps_vals, acc_vals = plot_frontier(fm, FAIRNESS_NAME, plot=False)\n",
    "    eps_collection[:, e] = eps_vals\n",
    "    acc_collection[:, e] = acc_vals\n",
    "mean_eps = np.mean(eps_collection, axis=1)\n",
    "std_eps = np.std(eps_collection, axis=1)\n",
    "mean_accs = np.mean(acc_collection, axis=1)\n",
    "std_accs = np.std(acc_collection, axis=1)"
   ]
  },
  {
   "cell_type": "code",
   "execution_count": 10,
   "metadata": {
    "collapsed": true
   },
   "outputs": [],
   "source": [
    "## Some baseline models\n",
    "X_train, y_train, X_test, y_test, X_train_removed, X_test_removed, dtypes, dtypes_, sens_idc, race_idx, sex_idx = get_dataset(DATANAME, seed=i)\n",
    "\n",
    "# LR\n",
    "lr = sklearn.linear_model.LogisticRegression(solver='lbfgs')\n",
    "lr.fit(X_train_removed, y_train)\n",
    "fm = FairnessMeasures(X_train, \n",
    "                      y_train, \n",
    "                      X_test, \n",
    "                      y_test, \n",
    "                      X_train_removed, \n",
    "                      X_test_removed, \n",
    "                      lr, \n",
    "                      sex_idx, \n",
    "                      pos_label=1, \n",
    "                      neg_label=0)\n",
    "if FAIRNESS_NAME == 'EqOdd':\n",
    "    a,b = fm.equalized_odds_diff()\n",
    "    acc = fm.ACC\n",
    "    lr_res = np.abs(a+b), acc\n",
    "elif FAIRNESS_NAME == 'DemoParity':\n",
    "    lr_res = (fm.group_parity_diff(), fm.ACC)\n",
    "    \n",
    "# SVM\n",
    "svm = sklearn.svm.SVC()\n",
    "svm.fit(X_train_removed, y_train)\n",
    "fm = FairnessMeasures(X_train, \n",
    "                      y_train, \n",
    "                      X_test, \n",
    "                      y_test, \n",
    "                      X_train_removed, \n",
    "                      X_test_removed, \n",
    "                      svm, \n",
    "                      sex_idx, \n",
    "                      pos_label=1, \n",
    "                      neg_label=0)\n",
    "if FAIRNESS_NAME == 'EqOdd':\n",
    "    a,b = fm.equalized_odds_diff()\n",
    "    acc = fm.ACC\n",
    "    svm_res = np.abs(a+b), acc\n",
    "elif FAIRNESS_NAME == 'DemoParity':\n",
    "    svm_res = (fm.group_parity_diff(), fm.ACC)\n",
    "    \n",
    "# RF\n",
    "rf = sklearn.ensemble.RandomForestClassifier()\n",
    "rf.fit(X_train_removed, y_train)\n",
    "fm = FairnessMeasures(X_train, \n",
    "                      y_train, \n",
    "                      X_test, \n",
    "                      y_test, \n",
    "                      X_train_removed, \n",
    "                      X_test_removed, \n",
    "                      rf, \n",
    "                      sex_idx, \n",
    "                      pos_label=1, \n",
    "                      neg_label=0)\n",
    "if FAIRNESS_NAME == 'EqOdd':\n",
    "    a,b = fm.equalized_odds_diff()\n",
    "    acc = fm.ACC\n",
    "    rf_res = np.abs(a+b), acc\n",
    "elif FAIRNESS_NAME == 'DemoParity':\n",
    "    rf_res = (fm.group_parity_diff(), fm.ACC)\n",
    "    \n"
   ]
  },
  {
   "cell_type": "code",
   "execution_count": 11,
   "metadata": {
    "collapsed": true
   },
   "outputs": [],
   "source": [
    "# Read csv files for FGP results\n",
    "from numpy import genfromtxt\n",
    "if FAIRNESS_NAME == 'EqOdd':\n",
    "    fgp_result = genfromtxt('eo_dist_fgp.csv', delimiter=',')\n",
    "elif FAIRNESS_NAME == 'DemoParity':\n",
    "    fgp_result = genfromtxt('sp_dist_fgp.csv', delimiter=',')"
   ]
  },
  {
   "cell_type": "code",
   "execution_count": 12,
   "metadata": {
    "collapsed": true
   },
   "outputs": [],
   "source": [
    "# Read csv files from EqODD results\n",
    "if FAIRNESS_NAME == 'EqOdd':\n",
    "    eqodd_result = genfromtxt('eqodd_result.csv', delimiter=',')"
   ]
  },
  {
   "cell_type": "code",
   "execution_count": 13,
   "metadata": {
    "collapsed": true
   },
   "outputs": [],
   "source": [
    "# Read csv files from Opt results\n",
    "op_result = genfromtxt('op_result.csv', delimiter=',')"
   ]
  },
  {
   "cell_type": "code",
   "execution_count": 14,
   "metadata": {
    "collapsed": true
   },
   "outputs": [],
   "source": [
    "# Some only-fair-but-trivial-classifier\n",
    "\n",
    "## constant prediction\n",
    "const_pos = ConstEstimator(pos=True)\n",
    "const_neg = ConstEstimator(pos=False)\n",
    "fm_pos = FairnessMeasures(X_train, \n",
    "                      y_train, \n",
    "                      X_test, \n",
    "                      y_test, \n",
    "                      X_train_removed, \n",
    "                      X_test_removed, \n",
    "                      const_pos, \n",
    "                      sex_idx, \n",
    "                      pos_label=1, \n",
    "                      neg_label=0)\n",
    "fm_neg = FairnessMeasures(X_train, \n",
    "                      y_train, \n",
    "                      X_test, \n",
    "                      y_test, \n",
    "                      X_train_removed, \n",
    "                      X_test_removed, \n",
    "                      const_neg, \n",
    "                      sex_idx, \n",
    "                      pos_label=1, \n",
    "                      neg_label=0)\n",
    "if FAIRNESS_NAME == 'EqOdd':\n",
    "    a,b = fm_pos.equalized_odds_diff()\n",
    "    acc = fm_pos.ACC\n",
    "    const_pos_res = np.abs(a+b), acc\n",
    "    a,b = fm_neg.equalized_odds_diff()\n",
    "    acc = fm_neg.ACC\n",
    "    const_neg_res = 1e-6, acc\n",
    "elif FAIRNESS_NAME == 'DemoParity':\n",
    "    const_pos_res = (fm_pos.group_parity_diff(), fm_pos.ACC)\n",
    "    const_neg_res = (fm_neg.group_parity_diff(), fm_neg.ACC)    \n"
   ]
  },
  {
   "cell_type": "code",
   "execution_count": 15,
   "metadata": {
    "collapsed": true
   },
   "outputs": [],
   "source": [
    "rand_clf = RandomEstimator(seed=5)\n",
    "fm_rand = FairnessMeasures(X_train, \n",
    "                          y_train, \n",
    "                          X_test, \n",
    "                          y_test, \n",
    "                          X_train_removed, \n",
    "                          X_test_removed, \n",
    "                          const_pos, \n",
    "                          sex_idx, \n",
    "                          pos_label=1, \n",
    "                          neg_label=0)\n",
    "if FAIRNESS_NAME == 'EqOdd':\n",
    "    a,b = fm_rand.equalized_odds_diff()\n",
    "    acc = fm_rand.ACC\n",
    "    rand_res = np.abs(a+b), acc\n",
    "elif FAIRNESS_NAME == 'DemoParity':\n",
    "    rand_res = (fm_rand.group_parity_diff(), fm_rand.ACC)"
   ]
  },
  {
   "cell_type": "code",
   "execution_count": 17,
   "metadata": {},
   "outputs": [
    {
     "data": {
      "image/png": "[encoded data removed]",
      "text/plain": [
       "<Figure size 576x252 with 1 Axes>"
      ]
     },
     "metadata": {
      "needs_background": "light"
     },
     "output_type": "display_data"
    }
   ],
   "source": [
    "f, axs = plt.subplots(figsize=(8,3.5))\n",
    "\n",
    "upper = mean_accs + std_accs\n",
    "upper[upper >= 1.0] = 1.0\n",
    "\n",
    "SCALE = 0\n",
    "axs.semilogx(mean_eps, mean_accs-SCALE, color='k', linestyle='-', label='MA FACT Pareto frontier')\n",
    "plt.fill_between(mean_eps, upper-SCALE, mean_accs-std_accs-SCALE, color='lightgrey')\n",
    "\n",
    "### post processing\n",
    "import pickle\n",
    "## NOTE: this file can be obtained by first running the post-process.ipynb notebook.\n",
    "pp = pickle.load(open('postprocess.pkl', 'rb'))\n",
    "axs.plot(pp[0], pp[1], 'k-.', label='MS FACT Pareto Frontier')\n",
    "\n",
    "# Plot other methods\n",
    "\n",
    "# plot FGP (Tan et al. 2019)\n",
    "axs.semilogx(fgp_result[:,0], fgp_result[:,1], color='r', label='FGP (Tan et al. 2020)', linestyle='-', marker='o' )\n",
    "\n",
    "# plot EqOdds (Hardt et al. 2016)\n",
    "axs.semilogx(eqodd_result[:,0], eqodd_result[:,1], color='b', label='Eq.Odd. (Hardt et al. 2016)', linestyle='-', marker='v')\n",
    "\n",
    "# plot Optimization-based (Zafar et al. 2015)\n",
    "axs.semilogx(op_result[:,0], op_result[:,1], color='g', label='Op. (Zafar et al. 2015)', linestyle='-', marker='s')\n",
    "\n",
    "# Plot baseline models\n",
    "axs.scatter(lr_res[0], lr_res[1], label='LogisticRegression', color='m', marker='x')\n",
    "axs.scatter(svm_res[0], svm_res[1], label='SVM', color='m', marker='+')\n",
    "axs.scatter(rf_res[0], rf_res[1], label='RandomForest', color='m', marker='*')\n",
    "\n",
    "# Plot const model\n",
    "axs.scatter(const_neg_res[0], const_neg_res[1], label='ConstantPred(-)', color='m', marker='^')\n",
    "\n",
    "\n",
    "xmax, xmin = axs.get_xlim()\n",
    "axs.set_xlim(1e-6)\n",
    "BAYES = 0.88\n",
    "axs.plot([xmin, 1e-6], [BAYES, BAYES], color='k', linestyle='--', alpha=0.4, label='Bayes clf')\n",
    "\n",
    "axs.invert_xaxis()\n",
    "\n",
    "axs.set_xlim(1, 0)\n",
    "axs.set_ylabel('Accuracy (1-$\\delta$)', fontsize=13)\n",
    "axs.set_xlabel('Fairness gap of [EOd] (smaller the better)', fontsize=13)\n",
    "\n",
    "axs.set_aspect('equal', 'box')\n",
    "plt.legend(bbox_to_anchor=(1.05, 0.95), frameon=False)\n",
    "#axs.legend(loc='top right', frameon=False)\n",
    "plt.tight_layout()\n",
    "plt.savefig('frontier.pdf', dpi=300)"
   ]
  },
  {
   "cell_type": "code",
   "execution_count": null,
   "metadata": {
    "collapsed": true
   },
   "outputs": [],
   "source": []
  }
 ],
 "metadata": {
  "kernelspec": {
   "display_name": "Python 3",
   "language": "python",
   "name": "python3"
  },
  "language_info": {
   "codemirror_mode": {
    "name": "ipython",
    "version": 3
   },
   "file_extension": ".py",
   "mimetype": "text/x-python",
   "name": "python",
   "nbconvert_exporter": "python",
   "pygments_lexer": "ipython3",
   "version": "3.5.2"
  }
 },
 "nbformat": 4,
 "nbformat_minor": 2
}
