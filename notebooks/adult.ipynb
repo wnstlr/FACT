{
 "cells": [
  {
   "cell_type": "code",
   "execution_count": 2,
   "metadata": {},
   "outputs": [
    {
     "name": "stdout",
     "output_type": "stream",
     "text": [
      "The autoreload extension is already loaded. To reload it, use:\n",
      "  %reload_ext autoreload\n"
     ]
    }
   ],
   "source": [
    "%load_ext autoreload\n",
    "%autoreload 2\n",
    "%matplotlib inline\n",
    "import pandas as pd\n",
    "import numpy as np\n",
    "\n",
    "import scipy as scp\n",
    "import sklearn\n",
    "import sys, os, pickle\n",
    "\n",
    "sys.path.append(os.path.join('..'))\n",
    "\n",
    "from FACT.helper import *\n",
    "from FACT.fairness import *\n",
    "from FACT.data_util import *\n",
    "from FACT.plot import *\n",
    "from FACT.lin_opt import *"
   ]
  },
  {
   "cell_type": "code",
   "execution_count": 3,
   "metadata": {
    "collapsed": true
   },
   "outputs": [],
   "source": [
    "from sklearn.model_selection import train_test_split"
   ]
  },
  {
   "cell_type": "code",
   "execution_count": 4,
   "metadata": {
    "collapsed": true
   },
   "outputs": [],
   "source": [
    "DATANAME='adult'\n",
    "X_train, y_train, X_test, y_test, X_train_removed, X_test_removed, dtypes, dtypes_, sens_idc, race_idx, sex_idx = get_dataset(DATANAME)"
   ]
  },
  {
   "cell_type": "code",
   "execution_count": 5,
   "metadata": {},
   "outputs": [
    {
     "name": "stdout",
     "output_type": "stream",
     "text": [
      "Training {'model_name': 'LogisticRegression', 'get_model': <function create_model.<locals>.get_model at 0x7fc264488840>, 'estimator': GridSearchCV(cv=StratifiedKFold(n_splits=5, random_state=0, shuffle=False),\n",
      "       error_score='raise',\n",
      "       estimator=Pipeline(memory=None,\n",
      "     steps=[('onehotencoder', OneHotEncoder(categorical_features=array([False, False, False, False,  True,  True,  True,  True,  True,\n",
      "        True]),\n",
      "       dtype=<class 'numpy.float64'>, handle_unknown='error',\n",
      "       n_values='auto', sparse=False)), ('standardscaler', StandardScaler(copy=True, with_me...ty='l2', random_state=None, solver='liblinear', tol=0.0001,\n",
      "          verbose=0, warm_start=False))]),\n",
      "       fit_params=None, iid=False, n_jobs=1,\n",
      "       param_grid={'logisticregression__C': array([0.0001, 0.1   ])},\n",
      "       pre_dispatch='2*n_jobs', refit=True, return_train_score=True,\n",
      "       scoring='accuracy', verbose=0)}\n"
     ]
    }
   ],
   "source": [
    "try:\n",
    "    #grid_base =  pickle.load(open('model_adult_base.pkl', 'rb'))[0]\n",
    "    grid =  pickle.load(open('model_adult.pkl', 'rb'))[0]\n",
    "    #model_base = grid_base.best_estimator_.named_steps['logisticregression']\n",
    "    model = grid.best_estimator_.named_steps['logisticregression']\n",
    "except:\n",
    "    model_names = ['LogisticRegression']\n",
    "    result = create_and_train_models(model_names, dtypes_, X_train_removed, y_train, X_test=X_test_removed, y_test=y_test, save=True, data_name=DATANAME)\n",
    "    #result_base = create_and_train_models(model_names, dtypes, X_train, y_train, X_test=X_test, y_test=y_test, save=True, data_name=DATANAME + '_base')\n",
    "    #model_base = result_base[0]['estimator']\n",
    "    model = result[0]['estimator']"
   ]
  },
  {
   "cell_type": "code",
   "execution_count": 7,
   "metadata": {},
   "outputs": [],
   "source": [
    "# Get fairness matrix information\n",
    "fm = FairnessMeasures(X_train, \n",
    "                      y_train, \n",
    "                      X_test, \n",
    "                      y_test, \n",
    "                      X_train_removed, \n",
    "                      X_test_removed, \n",
    "                      model, \n",
    "                      sex_idx, \n",
    "                      pos_label=1, \n",
    "                      neg_label=0)\n",
    "\n",
    "mats, mats_dict, M_const, b_const = get_fairness_mats(fm)"
   ]
  },
  {
   "cell_type": "code",
   "execution_count": 8,
   "metadata": {},
   "outputs": [
    {
     "name": "stdout",
     "output_type": "stream",
     "text": [
      "['EqOdd', 'Calibration']\tFalse\tNone\n",
      "['EqOdd', 'PosClassBal']\tTrue\t0.23686779050537868\n",
      "['EqOdd', 'NegClassBal']\tTrue\t0.23687069783024092\n",
      "['EqOdd', 'ClassBal']\tTrue\t0.23686779050537812\n",
      "['EqOdd', 'PredEqual']\tTrue\t0.23687069783024065\n",
      "['EqOdd', 'EqOpp']\tTrue\t0.23687069783024517\n",
      "['EqOdd', 'DemoParity']\tTrue\t0.23686670012609065\n",
      "['Calibration', 'PosClassBal']\tFalse\tNone\n",
      "['Calibration', 'NegClassBal']\tFalse\tNone\n",
      "['Calibration', 'ClassBal']\tFalse\tNone\n",
      "['Calibration', 'PredEqual']\tFalse\tNone\n",
      "['Calibration', 'EqOpp']\tFalse\tNone\n",
      "['Calibration', 'DemoParity']\tFalse\tNone\n",
      "['PosClassBal', 'NegClassBal']\tTrue\t5.551115123125783e-16\n",
      "['PosClassBal', 'ClassBal']\tTrue\t5.551115123125783e-16\n",
      "['PosClassBal', 'PredEqual']\tTrue\t5.551115123125783e-16\n",
      "['PosClassBal', 'EqOpp']\tTrue\t0.23686779050538145\n",
      "['PosClassBal', 'DemoParity']\tTrue\t0.06537660169483518\n",
      "['NegClassBal', 'ClassBal']\tTrue\t5.551115123125783e-16\n",
      "['NegClassBal', 'PredEqual']\tTrue\t5.551115123125783e-16\n",
      "['NegClassBal', 'EqOpp']\tTrue\t0.2368706978302413\n",
      "['NegClassBal', 'DemoParity']\tTrue\t0.13186592968776992\n",
      "['ClassBal', 'PredEqual']\tTrue\t5.551115123125783e-16\n",
      "['ClassBal', 'EqOpp']\tTrue\t0.23686779050538548\n",
      "['ClassBal', 'DemoParity']\tTrue\t0.2368680003534517\n",
      "['PredEqual', 'EqOpp']\tTrue\t0.23687069783024334\n",
      "['PredEqual', 'DemoParity']\tTrue\t0.1318654719175185\n",
      "['EqOpp', 'DemoParity']\tTrue\t0.2368668704127913\n",
      "['EqOdd', 'Calibration', 'PosClassBal']\tFalse\tNone\n",
      "['EqOdd', 'Calibration', 'NegClassBal']\tFalse\tNone\n",
      "['EqOdd', 'Calibration', 'ClassBal']\tFalse\tNone\n",
      "['EqOdd', 'Calibration', 'PredEqual']\tFalse\tNone\n",
      "['EqOdd', 'Calibration', 'EqOpp']\tFalse\tNone\n",
      "['EqOdd', 'Calibration', 'DemoParity']\tFalse\tNone\n",
      "['EqOdd', 'PosClassBal', 'NegClassBal']\tTrue\t0.23686779050537812\n",
      "['EqOdd', 'PosClassBal', 'ClassBal']\tTrue\t0.2368676148356171\n",
      "['EqOdd', 'PosClassBal', 'PredEqual']\tTrue\t0.2368677905053868\n",
      "['EqOdd', 'PosClassBal', 'EqOpp']\tTrue\t0.23686885614090467\n",
      "['EqOdd', 'PosClassBal', 'DemoParity']\tTrue\t0.23686826103483494\n",
      "['EqOdd', 'NegClassBal', 'ClassBal']\tTrue\t0.2368677905053902\n",
      "['EqOdd', 'NegClassBal', 'PredEqual']\tTrue\t0.23687069783024314\n",
      "['EqOdd', 'NegClassBal', 'EqOpp']\tTrue\t0.23687069783024448\n",
      "['EqOdd', 'NegClassBal', 'DemoParity']\tTrue\t0.2368670951020143\n",
      "['EqOdd', 'ClassBal', 'PredEqual']\tTrue\t0.23686779050537826\n",
      "['EqOdd', 'ClassBal', 'EqOpp']\tTrue\t0.2368688561408964\n",
      "['EqOdd', 'ClassBal', 'DemoParity']\tTrue\t0.23686794509839323\n",
      "['EqOdd', 'PredEqual', 'EqOpp']\tTrue\t0.23687069783024323\n",
      "['EqOdd', 'PredEqual', 'DemoParity']\tTrue\t0.23686799205164052\n",
      "['EqOdd', 'EqOpp', 'DemoParity']\tTrue\t0.2368678385647766\n",
      "['Calibration', 'PosClassBal', 'NegClassBal']\tFalse\tNone\n",
      "['Calibration', 'PosClassBal', 'ClassBal']\tFalse\tNone\n",
      "['Calibration', 'PosClassBal', 'PredEqual']\tFalse\tNone\n",
      "['Calibration', 'PosClassBal', 'EqOpp']\tFalse\tNone\n",
      "['Calibration', 'PosClassBal', 'DemoParity']\tFalse\tNone\n",
      "['Calibration', 'NegClassBal', 'ClassBal']\tFalse\tNone\n",
      "['Calibration', 'NegClassBal', 'PredEqual']\tFalse\tNone\n",
      "['Calibration', 'NegClassBal', 'EqOpp']\tFalse\tNone\n",
      "['Calibration', 'NegClassBal', 'DemoParity']\tFalse\tNone\n",
      "['Calibration', 'ClassBal', 'PredEqual']\tFalse\tNone\n",
      "['Calibration', 'ClassBal', 'EqOpp']\tFalse\tNone\n",
      "['Calibration', 'ClassBal', 'DemoParity']\tFalse\tNone\n",
      "['Calibration', 'PredEqual', 'EqOpp']\tFalse\tNone\n",
      "['Calibration', 'PredEqual', 'DemoParity']\tFalse\tNone\n",
      "['Calibration', 'EqOpp', 'DemoParity']\tFalse\tNone\n",
      "['PosClassBal', 'NegClassBal', 'ClassBal']\tTrue\t5.551115123125783e-16\n",
      "['PosClassBal', 'NegClassBal', 'PredEqual']\tTrue\t5.551115123125783e-16\n",
      "['PosClassBal', 'NegClassBal', 'EqOpp']\tTrue\t0.23686779050538548\n",
      "['PosClassBal', 'NegClassBal', 'DemoParity']\tTrue\t0.2368680003534517\n",
      "['PosClassBal', 'ClassBal', 'PredEqual']\tTrue\t5.551115123125783e-16\n",
      "['PosClassBal', 'ClassBal', 'EqOpp']\tTrue\t0.23686761483559818\n",
      "['PosClassBal', 'ClassBal', 'DemoParity']\tTrue\t0.23686857068018485\n",
      "['PosClassBal', 'PredEqual', 'EqOpp']\tTrue\t0.23686779050538842\n",
      "['PosClassBal', 'PredEqual', 'DemoParity']\tTrue\t0.23686742266657584\n",
      "['PosClassBal', 'EqOpp', 'DemoParity']\tTrue\t0.23686790413436598\n",
      "['NegClassBal', 'ClassBal', 'PredEqual']\tTrue\t5.551115123125783e-16\n",
      "['NegClassBal', 'ClassBal', 'EqOpp']\tTrue\t0.23686779050538964\n",
      "['NegClassBal', 'ClassBal', 'DemoParity']\tTrue\t0.2368684749350455\n",
      "['NegClassBal', 'PredEqual', 'EqOpp']\tTrue\t0.23687069783024206\n",
      "['NegClassBal', 'PredEqual', 'DemoParity']\tTrue\t0.13186471964491123\n",
      "['NegClassBal', 'EqOpp', 'DemoParity']\tTrue\t0.23686722455206283\n",
      "['ClassBal', 'PredEqual', 'EqOpp']\tTrue\t0.2368677905053817\n",
      "['ClassBal', 'PredEqual', 'DemoParity']\tTrue\t0.23686786050122421\n",
      "['ClassBal', 'EqOpp', 'DemoParity']\tTrue\t0.2368683724261097\n",
      "['PredEqual', 'EqOpp', 'DemoParity']\tTrue\t0.23686670012609065\n",
      "['EqOdd', 'Calibration', 'PosClassBal', 'NegClassBal']\tFalse\tNone\n",
      "['EqOdd', 'Calibration', 'PosClassBal', 'ClassBal']\tFalse\tNone\n",
      "['EqOdd', 'Calibration', 'PosClassBal', 'PredEqual']\tFalse\tNone\n",
      "['EqOdd', 'Calibration', 'PosClassBal', 'EqOpp']\tFalse\tNone\n",
      "['EqOdd', 'Calibration', 'PosClassBal', 'DemoParity']\tFalse\tNone\n",
      "['EqOdd', 'Calibration', 'NegClassBal', 'ClassBal']\tFalse\tNone\n",
      "['EqOdd', 'Calibration', 'NegClassBal', 'PredEqual']\tFalse\tNone\n",
      "['EqOdd', 'Calibration', 'NegClassBal', 'EqOpp']\tFalse\tNone\n",
      "['EqOdd', 'Calibration', 'NegClassBal', 'DemoParity']\tFalse\tNone\n",
      "['EqOdd', 'Calibration', 'ClassBal', 'PredEqual']\tFalse\tNone\n",
      "['EqOdd', 'Calibration', 'ClassBal', 'EqOpp']\tFalse\tNone\n",
      "['EqOdd', 'Calibration', 'ClassBal', 'DemoParity']\tFalse\tNone\n",
      "['EqOdd', 'Calibration', 'PredEqual', 'EqOpp']\tFalse\tNone\n",
      "['EqOdd', 'Calibration', 'PredEqual', 'DemoParity']\tFalse\tNone\n",
      "['EqOdd', 'Calibration', 'EqOpp', 'DemoParity']\tFalse\tNone\n",
      "['EqOdd', 'PosClassBal', 'NegClassBal', 'ClassBal']\tTrue\t0.23686761483561786\n",
      "['EqOdd', 'PosClassBal', 'NegClassBal', 'PredEqual']\tTrue\t0.23686779050537826\n",
      "['EqOdd', 'PosClassBal', 'NegClassBal', 'EqOpp']\tTrue\t0.2368688561408964\n",
      "['EqOdd', 'PosClassBal', 'NegClassBal', 'DemoParity']\tTrue\t0.23686794509839323\n",
      "['EqOdd', 'PosClassBal', 'ClassBal', 'PredEqual']\tTrue\t0.2368676148356139\n",
      "['EqOdd', 'PosClassBal', 'ClassBal', 'EqOpp']\tTrue\t0.23686779050538898\n",
      "['EqOdd', 'PosClassBal', 'ClassBal', 'DemoParity']\tTrue\t0.23686841515512866\n",
      "['EqOdd', 'PosClassBal', 'PredEqual', 'EqOpp']\tTrue\t0.236868856140917\n",
      "['EqOdd', 'PosClassBal', 'PredEqual', 'DemoParity']\tTrue\t0.2368686020635598\n",
      "['EqOdd', 'PosClassBal', 'EqOpp', 'DemoParity']\tTrue\t0.23686788133614542\n",
      "['EqOdd', 'NegClassBal', 'ClassBal', 'PredEqual']\tTrue\t0.23686779050538642\n",
      "['EqOdd', 'NegClassBal', 'ClassBal', 'EqOpp']\tTrue\t0.2368688561408993\n",
      "['EqOdd', 'NegClassBal', 'ClassBal', 'DemoParity']\tTrue\t0.23686727608575447\n",
      "['EqOdd', 'NegClassBal', 'PredEqual', 'EqOpp']\tTrue\t0.23687069783024153\n",
      "['EqOdd', 'NegClassBal', 'PredEqual', 'DemoParity']\tTrue\t0.23686641790517074\n",
      "['EqOdd', 'NegClassBal', 'EqOpp', 'DemoParity']\tTrue\t0.23686862791251723\n",
      "['EqOdd', 'ClassBal', 'PredEqual', 'EqOpp']\tTrue\t0.23686885614089656\n",
      "['EqOdd', 'ClassBal', 'PredEqual', 'DemoParity']\tTrue\t0.23686780488878947\n",
      "['EqOdd', 'ClassBal', 'EqOpp', 'DemoParity']\tTrue\t0.2368648712800734\n",
      "['EqOdd', 'PredEqual', 'EqOpp', 'DemoParity']\tTrue\t0.23686492326392458\n",
      "['Calibration', 'PosClassBal', 'NegClassBal', 'ClassBal']\tFalse\tNone\n",
      "['Calibration', 'PosClassBal', 'NegClassBal', 'PredEqual']\tFalse\tNone\n",
      "['Calibration', 'PosClassBal', 'NegClassBal', 'EqOpp']\tFalse\tNone\n",
      "['Calibration', 'PosClassBal', 'NegClassBal', 'DemoParity']\tFalse\tNone\n",
      "['Calibration', 'PosClassBal', 'ClassBal', 'PredEqual']\tFalse\tNone\n",
      "['Calibration', 'PosClassBal', 'ClassBal', 'EqOpp']\tFalse\tNone\n",
      "['Calibration', 'PosClassBal', 'ClassBal', 'DemoParity']\tFalse\tNone\n",
      "['Calibration', 'PosClassBal', 'PredEqual', 'EqOpp']\tFalse\tNone\n",
      "['Calibration', 'PosClassBal', 'PredEqual', 'DemoParity']\tFalse\tNone\n",
      "['Calibration', 'PosClassBal', 'EqOpp', 'DemoParity']\tFalse\tNone\n",
      "['Calibration', 'NegClassBal', 'ClassBal', 'PredEqual']\tFalse\tNone\n",
      "['Calibration', 'NegClassBal', 'ClassBal', 'EqOpp']\tFalse\tNone\n",
      "['Calibration', 'NegClassBal', 'ClassBal', 'DemoParity']\tFalse\tNone\n",
      "['Calibration', 'NegClassBal', 'PredEqual', 'EqOpp']\tFalse\tNone\n",
      "['Calibration', 'NegClassBal', 'PredEqual', 'DemoParity']\tFalse\tNone\n",
      "['Calibration', 'NegClassBal', 'EqOpp', 'DemoParity']\tFalse\tNone\n",
      "['Calibration', 'ClassBal', 'PredEqual', 'EqOpp']\tFalse\tNone\n",
      "['Calibration', 'ClassBal', 'PredEqual', 'DemoParity']\tFalse\tNone\n"
     ]
    },
    {
     "name": "stdout",
     "output_type": "stream",
     "text": [
      "['Calibration', 'ClassBal', 'EqOpp', 'DemoParity']\tFalse\tNone\n",
      "['Calibration', 'PredEqual', 'EqOpp', 'DemoParity']\tFalse\tNone\n",
      "['PosClassBal', 'NegClassBal', 'ClassBal', 'PredEqual']\tTrue\t5.551115123125783e-16\n",
      "['PosClassBal', 'NegClassBal', 'ClassBal', 'EqOpp']\tTrue\t0.23686761483557744\n",
      "['PosClassBal', 'NegClassBal', 'ClassBal', 'DemoParity']\tTrue\t0.23686850526483647\n",
      "['PosClassBal', 'NegClassBal', 'PredEqual', 'EqOpp']\tTrue\t0.2368677905053817\n",
      "['PosClassBal', 'NegClassBal', 'PredEqual', 'DemoParity']\tTrue\t0.23686786050122421\n",
      "['PosClassBal', 'NegClassBal', 'EqOpp', 'DemoParity']\tTrue\t0.2368683724261097\n",
      "['PosClassBal', 'ClassBal', 'PredEqual', 'EqOpp']\tTrue\t0.2368676148355797\n",
      "['PosClassBal', 'ClassBal', 'PredEqual', 'DemoParity']\tTrue\t0.2368676111753222\n",
      "['PosClassBal', 'ClassBal', 'EqOpp', 'DemoParity']\tTrue\t0.23686825100003317\n",
      "['PosClassBal', 'PredEqual', 'EqOpp', 'DemoParity']\tTrue\t0.23686826103477684\n",
      "['NegClassBal', 'ClassBal', 'PredEqual', 'EqOpp']\tTrue\t0.23686779050538365\n",
      "['NegClassBal', 'ClassBal', 'PredEqual', 'DemoParity']\tTrue\t0.2368661672278641\n",
      "['NegClassBal', 'ClassBal', 'EqOpp', 'DemoParity']\tTrue\t0.236851239057652\n",
      "['NegClassBal', 'PredEqual', 'EqOpp', 'DemoParity']\tTrue\t0.23686709510442455\n",
      "['ClassBal', 'PredEqual', 'EqOpp', 'DemoParity']\tTrue\t0.23686794509843262\n",
      "['EqOdd', 'Calibration', 'PosClassBal', 'NegClassBal', 'ClassBal']\tFalse\tNone\n",
      "['EqOdd', 'Calibration', 'PosClassBal', 'NegClassBal', 'PredEqual']\tFalse\tNone\n",
      "['EqOdd', 'Calibration', 'PosClassBal', 'NegClassBal', 'EqOpp']\tFalse\tNone\n",
      "['EqOdd', 'Calibration', 'PosClassBal', 'NegClassBal', 'DemoParity']\tFalse\tNone\n",
      "['EqOdd', 'Calibration', 'PosClassBal', 'ClassBal', 'PredEqual']\tFalse\tNone\n",
      "['EqOdd', 'Calibration', 'PosClassBal', 'ClassBal', 'EqOpp']\tFalse\tNone\n",
      "['EqOdd', 'Calibration', 'PosClassBal', 'ClassBal', 'DemoParity']\tFalse\tNone\n",
      "['EqOdd', 'Calibration', 'PosClassBal', 'PredEqual', 'EqOpp']\tFalse\tNone\n",
      "['EqOdd', 'Calibration', 'PosClassBal', 'PredEqual', 'DemoParity']\tFalse\tNone\n",
      "['EqOdd', 'Calibration', 'PosClassBal', 'EqOpp', 'DemoParity']\tFalse\tNone\n",
      "['EqOdd', 'Calibration', 'NegClassBal', 'ClassBal', 'PredEqual']\tFalse\tNone\n",
      "['EqOdd', 'Calibration', 'NegClassBal', 'ClassBal', 'EqOpp']\tFalse\tNone\n",
      "['EqOdd', 'Calibration', 'NegClassBal', 'ClassBal', 'DemoParity']\tFalse\tNone\n",
      "['EqOdd', 'Calibration', 'NegClassBal', 'PredEqual', 'EqOpp']\tFalse\tNone\n",
      "['EqOdd', 'Calibration', 'NegClassBal', 'PredEqual', 'DemoParity']\tFalse\tNone\n",
      "['EqOdd', 'Calibration', 'NegClassBal', 'EqOpp', 'DemoParity']\tFalse\tNone\n",
      "['EqOdd', 'Calibration', 'ClassBal', 'PredEqual', 'EqOpp']\tFalse\tNone\n",
      "['EqOdd', 'Calibration', 'ClassBal', 'PredEqual', 'DemoParity']\tFalse\tNone\n",
      "['EqOdd', 'Calibration', 'ClassBal', 'EqOpp', 'DemoParity']\tFalse\tNone\n",
      "['EqOdd', 'Calibration', 'PredEqual', 'EqOpp', 'DemoParity']\tFalse\tNone\n",
      "['EqOdd', 'PosClassBal', 'NegClassBal', 'ClassBal', 'PredEqual']\tTrue\t0.23686761483560828\n",
      "['EqOdd', 'PosClassBal', 'NegClassBal', 'ClassBal', 'EqOpp']\tTrue\t0.23686779050538817\n",
      "['EqOdd', 'PosClassBal', 'NegClassBal', 'ClassBal', 'DemoParity']\tTrue\t0.2368676403984186\n",
      "['EqOdd', 'PosClassBal', 'NegClassBal', 'PredEqual', 'EqOpp']\tTrue\t0.23686885614089656\n",
      "['EqOdd', 'PosClassBal', 'NegClassBal', 'PredEqual', 'DemoParity']\tTrue\t0.23686780488878947\n",
      "['EqOdd', 'PosClassBal', 'NegClassBal', 'EqOpp', 'DemoParity']\tTrue\t0.2368648712800734\n",
      "['EqOdd', 'PosClassBal', 'ClassBal', 'PredEqual', 'EqOpp']\tTrue\t0.23686779050538098\n",
      "['EqOdd', 'PosClassBal', 'ClassBal', 'PredEqual', 'DemoParity']\tTrue\t0.23684897387267953\n",
      "['EqOdd', 'PosClassBal', 'ClassBal', 'EqOpp', 'DemoParity']\tTrue\t0.23686870462516027\n",
      "['EqOdd', 'PosClassBal', 'PredEqual', 'EqOpp', 'DemoParity']\tTrue\t0.23685195675620171\n",
      "['EqOdd', 'NegClassBal', 'ClassBal', 'PredEqual', 'EqOpp']\tTrue\t0.2368688561409078\n",
      "['EqOdd', 'NegClassBal', 'ClassBal', 'PredEqual', 'DemoParity']\tTrue\t0.23686755778042737\n",
      "['EqOdd', 'NegClassBal', 'ClassBal', 'EqOpp', 'DemoParity']\tTrue\t0.2368584512427404\n",
      "['EqOdd', 'NegClassBal', 'PredEqual', 'EqOpp', 'DemoParity']\tTrue\t0.2368688780197923\n",
      "['EqOdd', 'ClassBal', 'PredEqual', 'EqOpp', 'DemoParity']\tTrue\t0.2368662526605329\n",
      "['Calibration', 'PosClassBal', 'NegClassBal', 'ClassBal', 'PredEqual']\tFalse\tNone\n",
      "['Calibration', 'PosClassBal', 'NegClassBal', 'ClassBal', 'EqOpp']\tFalse\tNone\n",
      "['Calibration', 'PosClassBal', 'NegClassBal', 'ClassBal', 'DemoParity']\tFalse\tNone\n",
      "['Calibration', 'PosClassBal', 'NegClassBal', 'PredEqual', 'EqOpp']\tFalse\tNone\n",
      "['Calibration', 'PosClassBal', 'NegClassBal', 'PredEqual', 'DemoParity']\tFalse\tNone\n",
      "['Calibration', 'PosClassBal', 'NegClassBal', 'EqOpp', 'DemoParity']\tFalse\tNone\n",
      "['Calibration', 'PosClassBal', 'ClassBal', 'PredEqual', 'EqOpp']\tFalse\tNone\n",
      "['Calibration', 'PosClassBal', 'ClassBal', 'PredEqual', 'DemoParity']\tFalse\tNone\n",
      "['Calibration', 'PosClassBal', 'ClassBal', 'EqOpp', 'DemoParity']\tFalse\tNone\n",
      "['Calibration', 'PosClassBal', 'PredEqual', 'EqOpp', 'DemoParity']\tFalse\tNone\n",
      "['Calibration', 'NegClassBal', 'ClassBal', 'PredEqual', 'EqOpp']\tFalse\tNone\n",
      "['Calibration', 'NegClassBal', 'ClassBal', 'PredEqual', 'DemoParity']\tFalse\tNone\n",
      "['Calibration', 'NegClassBal', 'ClassBal', 'EqOpp', 'DemoParity']\tFalse\tNone\n",
      "['Calibration', 'NegClassBal', 'PredEqual', 'EqOpp', 'DemoParity']\tFalse\tNone\n",
      "['Calibration', 'ClassBal', 'PredEqual', 'EqOpp', 'DemoParity']\tFalse\tNone\n",
      "['PosClassBal', 'NegClassBal', 'ClassBal', 'PredEqual', 'EqOpp']\tTrue\t0.2368676148355784\n",
      "['PosClassBal', 'NegClassBal', 'ClassBal', 'PredEqual', 'DemoParity']\tTrue\t0.23686767021582672\n",
      "['PosClassBal', 'NegClassBal', 'ClassBal', 'EqOpp', 'DemoParity']\tTrue\t0.2368689847084852\n",
      "['PosClassBal', 'NegClassBal', 'PredEqual', 'EqOpp', 'DemoParity']\tTrue\t0.23686794509843262\n",
      "['PosClassBal', 'ClassBal', 'PredEqual', 'EqOpp', 'DemoParity']\tTrue\t0.2368684151552054\n",
      "['NegClassBal', 'ClassBal', 'PredEqual', 'EqOpp', 'DemoParity']\tTrue\t0.23686727608586766\n",
      "['EqOdd', 'Calibration', 'PosClassBal', 'NegClassBal', 'ClassBal', 'PredEqual']\tFalse\tNone\n",
      "['EqOdd', 'Calibration', 'PosClassBal', 'NegClassBal', 'ClassBal', 'EqOpp']\tFalse\tNone\n",
      "['EqOdd', 'Calibration', 'PosClassBal', 'NegClassBal', 'ClassBal', 'DemoParity']\tFalse\tNone\n",
      "['EqOdd', 'Calibration', 'PosClassBal', 'NegClassBal', 'PredEqual', 'EqOpp']\tFalse\tNone\n",
      "['EqOdd', 'Calibration', 'PosClassBal', 'NegClassBal', 'PredEqual', 'DemoParity']\tFalse\tNone\n",
      "['EqOdd', 'Calibration', 'PosClassBal', 'NegClassBal', 'EqOpp', 'DemoParity']\tFalse\tNone\n",
      "['EqOdd', 'Calibration', 'PosClassBal', 'ClassBal', 'PredEqual', 'EqOpp']\tFalse\tNone\n",
      "['EqOdd', 'Calibration', 'PosClassBal', 'ClassBal', 'PredEqual', 'DemoParity']\tFalse\tNone\n",
      "['EqOdd', 'Calibration', 'PosClassBal', 'ClassBal', 'EqOpp', 'DemoParity']\tFalse\tNone\n",
      "['EqOdd', 'Calibration', 'PosClassBal', 'PredEqual', 'EqOpp', 'DemoParity']\tFalse\tNone\n",
      "['EqOdd', 'Calibration', 'NegClassBal', 'ClassBal', 'PredEqual', 'EqOpp']\tFalse\tNone\n",
      "['EqOdd', 'Calibration', 'NegClassBal', 'ClassBal', 'PredEqual', 'DemoParity']\tFalse\tNone\n",
      "['EqOdd', 'Calibration', 'NegClassBal', 'ClassBal', 'EqOpp', 'DemoParity']\tFalse\tNone\n",
      "['EqOdd', 'Calibration', 'NegClassBal', 'PredEqual', 'EqOpp', 'DemoParity']\tFalse\tNone\n",
      "['EqOdd', 'Calibration', 'ClassBal', 'PredEqual', 'EqOpp', 'DemoParity']\tFalse\tNone\n",
      "['EqOdd', 'PosClassBal', 'NegClassBal', 'ClassBal', 'PredEqual', 'EqOpp']\tTrue\t0.2368677905053923\n",
      "['EqOdd', 'PosClassBal', 'NegClassBal', 'ClassBal', 'PredEqual', 'DemoParity']\tTrue\t0.23686459722953415\n",
      "['EqOdd', 'PosClassBal', 'NegClassBal', 'ClassBal', 'EqOpp', 'DemoParity']\tTrue\t0.23686899369333123\n",
      "['EqOdd', 'PosClassBal', 'NegClassBal', 'PredEqual', 'EqOpp', 'DemoParity']\tTrue\t0.2368662526605329\n",
      "['EqOdd', 'PosClassBal', 'ClassBal', 'PredEqual', 'EqOpp', 'DemoParity']\tTrue\t0.2368687835117562\n",
      "['EqOdd', 'NegClassBal', 'ClassBal', 'PredEqual', 'EqOpp', 'DemoParity']\tTrue\t0.23687012888617343\n",
      "['Calibration', 'PosClassBal', 'NegClassBal', 'ClassBal', 'PredEqual', 'EqOpp']\tFalse\tNone\n",
      "['Calibration', 'PosClassBal', 'NegClassBal', 'ClassBal', 'PredEqual', 'DemoParity']\tFalse\tNone\n",
      "['Calibration', 'PosClassBal', 'NegClassBal', 'ClassBal', 'EqOpp', 'DemoParity']\tFalse\tNone\n",
      "['Calibration', 'PosClassBal', 'NegClassBal', 'PredEqual', 'EqOpp', 'DemoParity']\tFalse\tNone\n",
      "['Calibration', 'PosClassBal', 'ClassBal', 'PredEqual', 'EqOpp', 'DemoParity']\tFalse\tNone\n",
      "['Calibration', 'NegClassBal', 'ClassBal', 'PredEqual', 'EqOpp', 'DemoParity']\tFalse\tNone\n",
      "['PosClassBal', 'NegClassBal', 'ClassBal', 'PredEqual', 'EqOpp', 'DemoParity']\tTrue\t0.23686764039852312\n",
      "['EqOdd', 'Calibration', 'PosClassBal', 'NegClassBal', 'ClassBal', 'PredEqual', 'EqOpp']\tFalse\tNone\n",
      "['EqOdd', 'Calibration', 'PosClassBal', 'NegClassBal', 'ClassBal', 'PredEqual', 'DemoParity']\tFalse\tNone\n"
     ]
    },
    {
     "name": "stdout",
     "output_type": "stream",
     "text": [
      "['EqOdd', 'Calibration', 'PosClassBal', 'NegClassBal', 'ClassBal', 'EqOpp', 'DemoParity']\tFalse\tNone\n",
      "['EqOdd', 'Calibration', 'PosClassBal', 'NegClassBal', 'PredEqual', 'EqOpp', 'DemoParity']\tFalse\tNone\n",
      "['EqOdd', 'Calibration', 'PosClassBal', 'ClassBal', 'PredEqual', 'EqOpp', 'DemoParity']\tFalse\tNone\n",
      "['EqOdd', 'Calibration', 'NegClassBal', 'ClassBal', 'PredEqual', 'EqOpp', 'DemoParity']\tFalse\tNone\n",
      "['EqOdd', 'PosClassBal', 'NegClassBal', 'ClassBal', 'PredEqual', 'EqOpp', 'DemoParity']\tTrue\t0.2368683167134493\n",
      "['Calibration', 'PosClassBal', 'NegClassBal', 'ClassBal', 'PredEqual', 'EqOpp', 'DemoParity']\tFalse\tNone\n",
      "['EqOdd', 'Calibration', 'PosClassBal', 'NegClassBal', 'ClassBal', 'PredEqual', 'EqOpp', 'DemoParity']\tFalse\tNone\n"
     ]
    }
   ],
   "source": [
    "result = test_all_enumerations(fm, mats)"
   ]
  },
  {
   "cell_type": "code",
   "execution_count": 9,
   "metadata": {},
   "outputs": [
    {
     "name": "stdout",
     "output_type": "stream",
     "text": [
      "['PosClassBal', 'ClassBal']\tTrue\t5.551115123125783e-16\n",
      "['PredEqual', 'NegClassBal']\tTrue\t5.551115123125783e-16\n",
      "['EqOdd', 'DemoParity']\tTrue\t0.23686670012609065\n",
      "['EqOdd', 'PosClassBal', 'DemoParity']\tTrue\t0.23686826103483494\n",
      "['EqOdd', 'ClassBal', 'PredEqual', 'DemoParity']\tTrue\t0.23686780488878947\n",
      "['EqOdd', 'ClassBal', 'PredEqual', 'EqOpp', 'DemoParity']\tTrue\t0.2368662526605329\n",
      "['PosClassBal', 'DemoParity']\tTrue\t0.06537660169483518\n",
      "['Calibration', 'ClassBal', 'EqOpp', 'DemoParity']\tFalse\tNone\n",
      "['PosClassBal', 'NegClassBal', 'Calibration']\tFalse\tNone\n"
     ]
    },
    {
     "data": {
      "text/plain": [
       "'PCB, CB &  o  & 1.0000\\\\ PE, NCB &  o  & 1.0000\\\\ EOd, DP &  o  & 0.7631\\\\ EOd, PCB, DP &  o  & 0.7631\\\\ EOd, CB, PE, DP &  o  & 0.7631\\\\ EOd, CB, PE, EOp, DP &  o  & 0.7631\\\\ PCB, DP &  o  & 0.9346\\\\ CG, CB, EOp, DP &  x  & -\\\\ PCB, NCB, CG &  x  & -\\\\ '"
      ]
     },
     "execution_count": 9,
     "metadata": {},
     "output_type": "execute_result"
    }
   ],
   "source": [
    "some_names = [['PosClassBal', 'ClassBal'], \n",
    "              ['PredEqual', 'NegClassBal'],\n",
    "              ['EqOdd', 'DemoParity'],\n",
    "              ['EqOdd', 'PosClassBal', 'DemoParity'],\n",
    "              ['EqOdd', 'ClassBal', 'PredEqual', 'DemoParity'],\n",
    "              ['EqOdd', 'ClassBal', 'PredEqual', 'EqOpp', 'DemoParity'],\n",
    "              ['PosClassBal', 'DemoParity'], \n",
    "              ['Calibration', 'ClassBal', 'EqOpp', 'DemoParity'],\n",
    "              ['PosClassBal', 'NegClassBal', 'Calibration'],\n",
    "             ]\n",
    "dd = test_some_names(fm, some_names)\n",
    "res2text(dd)"
   ]
  },
  {
   "cell_type": "code",
   "execution_count": 10,
   "metadata": {},
   "outputs": [
    {
     "name": "stdout",
     "output_type": "stream",
     "text": [
      "Calibration,ClassBal,EqOpp,DemoParity\t0.0013749172258064205\n",
      "PosClassBal,NegClassBal,Calibration\t0.00036401748474461414\n"
     ]
    },
    {
     "data": {
      "text/plain": [
       "<matplotlib.axes._subplots.AxesSubplot at 0x7fc2190c6080>"
      ]
     },
     "execution_count": 10,
     "metadata": {},
     "output_type": "execute_result"
    },
    {
     "data": {
      "image/png": "[encoded data removed]",
      "text/plain": [
       "<Figure size 288x144 with 1 Axes>"
      ]
     },
     "metadata": {
      "needs_background": "light"
     },
     "output_type": "display_data"
    }
   ],
   "source": [
    "# First get (eps, delta) pairs for optimizing over different lambdas\n",
    "lmbds_used = get_eps_delta_over_lambdas(mats_dict, M_const, b_const, some_names)\n",
    "\n",
    "# NOTE manually set up the group for colors\n",
    "groups = [0, 0, 1, 1, 1, 1, 2, 3, 4]\n",
    "colors = ['m', 'b', 'g', 'r', 'k']\n",
    "plot_eps_delta_curves(fm, \n",
    "                      some_names, \n",
    "                      lmbds_used, \n",
    "                      groups=groups, \n",
    "                      colors=colors, \n",
    "                      data_name='Adult',\n",
    "                      save=True)"
   ]
  },
  {
   "cell_type": "code",
   "execution_count": 8,
   "metadata": {},
   "outputs": [
    {
     "data": {
      "image/png": "[encoded data removed]",
      "text/plain": [
       "<Figure size 144x144 with 2 Axes>"
      ]
     },
     "metadata": {
      "needs_background": "light"
     },
     "output_type": "display_data"
    }
   ],
   "source": [
    "# Multi-dimensional regularization for fairness definitions:\n",
    "name = ['EqOdd', 'DemoParity']\n",
    "a, b = plot_accuracy_contours(mats_dict, \n",
    "                       name, \n",
    "                       M_const, \n",
    "                       b_const, \n",
    "                       bound=(4,4),\n",
    "                       data_name='Adult',\n",
    "                       save=True)"
   ]
  },
  {
   "cell_type": "code",
   "execution_count": 17,
   "metadata": {},
   "outputs": [
    {
     "data": {
      "text/plain": [
       "array([<matplotlib.axes._subplots.AxesSubplot object at 0x7f19dc3323c8>,\n",
       "       <matplotlib.axes._subplots.AxesSubplot object at 0x7f196fe05c88>,\n",
       "       <matplotlib.axes._subplots.AxesSubplot object at 0x7f196fe2d208>],\n",
       "      dtype=object)"
      ]
     },
     "execution_count": 17,
     "metadata": {},
     "output_type": "execute_result"
    },
    {
     "data": {
      "image/png": "[encoded data removed]",
      "text/plain": [
       "<Figure size 648x144 with 3 Axes>"
      ]
     },
     "metadata": {},
     "output_type": "display_data"
    }
   ],
   "source": [
    "## Orderings\n",
    "# NOTE place in the order of adding to the rest.\n",
    "list_name = ['PosClassBal', 'DemoParity', 'EqOdd']\n",
    "plot_slices(mats_dict, list_name, M_const, b_const, save=True, data_name='Adult')"
   ]
  }
 ],
 "metadata": {
  "kernelspec": {
   "display_name": "Python 3",
   "language": "python",
   "name": "python3"
  },
  "language_info": {
   "codemirror_mode": {
    "name": "ipython",
    "version": 3
   },
   "file_extension": ".py",
   "mimetype": "text/x-python",
   "name": "python",
   "nbconvert_exporter": "python",
   "pygments_lexer": "ipython3",
   "version": "3.5.2"
  }
 },
 "nbformat": 4,
 "nbformat_minor": 2
}
